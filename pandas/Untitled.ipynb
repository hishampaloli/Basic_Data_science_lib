{
 "cells": [
  {
   "cell_type": "code",
   "execution_count": 3,
   "id": "d71cb591",
   "metadata": {},
   "outputs": [],
   "source": [
    "import pandas as pd"
   ]
  },
  {
   "cell_type": "code",
   "execution_count": 4,
   "id": "eecaa180",
   "metadata": {},
   "outputs": [],
   "source": [
    "import numpy as np"
   ]
  },
  {
   "cell_type": "code",
   "execution_count": null,
   "id": "bd43ba3c",
   "metadata": {},
   "outputs": [],
   "source": []
  },
  {
   "cell_type": "code",
   "execution_count": 5,
   "id": "acbfd16e",
   "metadata": {},
   "outputs": [],
   "source": [
    "myIndex = ['usa', 'inda', 'uae']"
   ]
  },
  {
   "cell_type": "code",
   "execution_count": 6,
   "id": "5ab16046",
   "metadata": {},
   "outputs": [],
   "source": [
    "myData = [13,3434,46]\n",
    "myuser = pd.Series(myData,myIndex)"
   ]
  },
  {
   "cell_type": "code",
   "execution_count": 7,
   "id": "89fa56cd",
   "metadata": {},
   "outputs": [
    {
     "data": {
      "text/plain": [
       "usa       13\n",
       "inda    3434\n",
       "uae       46\n",
       "dtype: int64"
      ]
     },
     "execution_count": 7,
     "metadata": {},
     "output_type": "execute_result"
    }
   ],
   "source": [
    "myuser"
   ]
  },
  {
   "cell_type": "code",
   "execution_count": 8,
   "id": "ac434a90",
   "metadata": {},
   "outputs": [
    {
     "data": {
      "text/plain": [
       "13"
      ]
     },
     "execution_count": 8,
     "metadata": {},
     "output_type": "execute_result"
    }
   ],
   "source": [
    "myuser['usa']"
   ]
  },
  {
   "cell_type": "code",
   "execution_count": 9,
   "id": "f5f648b1",
   "metadata": {},
   "outputs": [],
   "source": [
    "ages = {'Sam': 5, \"frank\": 34}"
   ]
  },
  {
   "cell_type": "code",
   "execution_count": 10,
   "id": "1f8246f3",
   "metadata": {},
   "outputs": [],
   "source": [
    "ag = pd.Series(ages)"
   ]
  },
  {
   "cell_type": "code",
   "execution_count": 11,
   "id": "590ac1f3",
   "metadata": {},
   "outputs": [
    {
     "data": {
      "text/plain": [
       "34"
      ]
     },
     "execution_count": 11,
     "metadata": {},
     "output_type": "execute_result"
    }
   ],
   "source": [
    "ages['frank']"
   ]
  },
  {
   "cell_type": "code",
   "execution_count": 12,
   "id": "b4b738af",
   "metadata": {},
   "outputs": [],
   "source": [
    "q1 = {'Japan': 80, \"China\": 23, \"India\": 33}\n",
    "q2 = {'Brazil': 10, \"China\": 13, \"India\": 233}"
   ]
  },
  {
   "cell_type": "code",
   "execution_count": 13,
   "id": "4fbe2a5e",
   "metadata": {},
   "outputs": [],
   "source": [
    "sales_q1 = pd.Series(q1)"
   ]
  },
  {
   "cell_type": "code",
   "execution_count": 14,
   "id": "d9e79318",
   "metadata": {},
   "outputs": [],
   "source": [
    "sales_q2 = pd.Series(q2)"
   ]
  },
  {
   "cell_type": "code",
   "execution_count": 15,
   "id": "8909ec10",
   "metadata": {},
   "outputs": [
    {
     "data": {
      "text/plain": [
       "Japan    80\n",
       "China    23\n",
       "India    33\n",
       "dtype: int64"
      ]
     },
     "execution_count": 15,
     "metadata": {},
     "output_type": "execute_result"
    }
   ],
   "source": [
    "sales_q1\n"
   ]
  },
  {
   "cell_type": "code",
   "execution_count": 16,
   "id": "4f1930fd",
   "metadata": {},
   "outputs": [
    {
     "data": {
      "text/plain": [
       "Brazil     10\n",
       "China      13\n",
       "India     233\n",
       "dtype: int64"
      ]
     },
     "execution_count": 16,
     "metadata": {},
     "output_type": "execute_result"
    }
   ],
   "source": [
    "sales_q2"
   ]
  },
  {
   "cell_type": "code",
   "execution_count": 17,
   "id": "6dd62e56",
   "metadata": {},
   "outputs": [
    {
     "data": {
      "text/plain": [
       "23"
      ]
     },
     "execution_count": 17,
     "metadata": {},
     "output_type": "execute_result"
    }
   ],
   "source": [
    "sales_q1['China']"
   ]
  },
  {
   "cell_type": "code",
   "execution_count": 18,
   "id": "5e1a9492",
   "metadata": {},
   "outputs": [
    {
     "data": {
      "text/plain": [
       "Index(['Japan', 'China', 'India'], dtype='object')"
      ]
     },
     "execution_count": 18,
     "metadata": {},
     "output_type": "execute_result"
    }
   ],
   "source": [
    "sales_q1.keys() "
   ]
  },
  {
   "cell_type": "code",
   "execution_count": 19,
   "id": "d8f74f7e",
   "metadata": {},
   "outputs": [
    {
     "data": {
      "text/plain": [
       "array([ 4, 12])"
      ]
     },
     "execution_count": 19,
     "metadata": {},
     "output_type": "execute_result"
    }
   ],
   "source": [
    "np.array([1,3]) * 4"
   ]
  },
  {
   "cell_type": "code",
   "execution_count": 20,
   "id": "83a529c1",
   "metadata": {},
   "outputs": [
    {
     "data": {
      "text/plain": [
       "Japan    160\n",
       "China     46\n",
       "India     66\n",
       "dtype: int64"
      ]
     },
     "execution_count": 20,
     "metadata": {},
     "output_type": "execute_result"
    }
   ],
   "source": [
    "sales_q1 * 2"
   ]
  },
  {
   "cell_type": "code",
   "execution_count": 21,
   "id": "673c0b9b",
   "metadata": {},
   "outputs": [
    {
     "data": {
      "text/plain": [
       "Brazil      NaN\n",
       "China      36.0\n",
       "India     266.0\n",
       "Japan       NaN\n",
       "dtype: float64"
      ]
     },
     "execution_count": 21,
     "metadata": {},
     "output_type": "execute_result"
    }
   ],
   "source": [
    "sales_q1 + sales_q2"
   ]
  },
  {
   "cell_type": "code",
   "execution_count": 31,
   "id": "cb9171fb",
   "metadata": {},
   "outputs": [],
   "source": [
    "first_half = sales_q1.add(sales_q2,fill_value=0)"
   ]
  },
  {
   "cell_type": "code",
   "execution_count": 29,
   "id": "3825868e",
   "metadata": {},
   "outputs": [
    {
     "data": {
      "text/plain": [
       "dtype('int64')"
      ]
     },
     "execution_count": 29,
     "metadata": {},
     "output_type": "execute_result"
    }
   ],
   "source": [
    "sales_q1.dtype"
   ]
  },
  {
   "cell_type": "code",
   "execution_count": 32,
   "id": "0bcee5ea",
   "metadata": {},
   "outputs": [
    {
     "data": {
      "text/plain": [
       "dtype('float64')"
      ]
     },
     "execution_count": 32,
     "metadata": {},
     "output_type": "execute_result"
    }
   ],
   "source": [
    "first_half.dtype"
   ]
  },
  {
   "cell_type": "code",
   "execution_count": null,
   "id": "370075e2",
   "metadata": {},
   "outputs": [],
   "source": []
  }
 ],
 "metadata": {
  "kernelspec": {
   "display_name": "Python 3 (ipykernel)",
   "language": "python",
   "name": "python3"
  },
  "language_info": {
   "codemirror_mode": {
    "name": "ipython",
    "version": 3
   },
   "file_extension": ".py",
   "mimetype": "text/x-python",
   "name": "python",
   "nbconvert_exporter": "python",
   "pygments_lexer": "ipython3",
   "version": "3.10.9"
  }
 },
 "nbformat": 4,
 "nbformat_minor": 5
}
