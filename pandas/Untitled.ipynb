{
 "cells": [
  {
   "cell_type": "code",
   "execution_count": 1,
   "id": "d71cb591",
   "metadata": {},
   "outputs": [],
   "source": [
    "import pandas as pd"
   ]
  },
  {
   "cell_type": "code",
   "execution_count": 4,
   "id": "eecaa180",
   "metadata": {},
   "outputs": [],
   "source": [
    "import numpy as np"
   ]
  },
  {
   "cell_type": "code",
   "execution_count": 3,
   "id": "bd43ba3c",
   "metadata": {},
   "outputs": [
    {
     "data": {
      "text/plain": [
       "<IntegerArray>\n",
       "[3, 5]\n",
       "Length: 2, dtype: Int64"
      ]
     },
     "execution_count": 3,
     "metadata": {},
     "output_type": "execute_result"
    }
   ],
   "source": []
  },
  {
   "cell_type": "code",
   "execution_count": 5,
   "id": "acbfd16e",
   "metadata": {},
   "outputs": [],
   "source": [
    "myIndex = ['usa', 'inda', 'uae']"
   ]
  },
  {
   "cell_type": "code",
   "execution_count": 19,
   "id": "5ab16046",
   "metadata": {},
   "outputs": [],
   "source": [
    "myData = [13,3434,46]\n",
    "myuser = pd.Series(myData,myIndex)"
   ]
  },
  {
   "cell_type": "code",
   "execution_count": 13,
   "id": "89fa56cd",
   "metadata": {},
   "outputs": [
    {
     "data": {
      "text/plain": [
       "usa       13\n",
       "inda    3434\n",
       "uae       46\n",
       "dtype: int64"
      ]
     },
     "execution_count": 13,
     "metadata": {},
     "output_type": "execute_result"
    }
   ],
   "source": [
    "myuser"
   ]
  },
  {
   "cell_type": "code",
   "execution_count": 18,
   "id": "ac434a90",
   "metadata": {},
   "outputs": [
    {
     "data": {
      "text/plain": [
       "13"
      ]
     },
     "execution_count": 18,
     "metadata": {},
     "output_type": "execute_result"
    }
   ],
   "source": [
    "myuser['usa']"
   ]
  },
  {
   "cell_type": "code",
   "execution_count": 20,
   "id": "f5f648b1",
   "metadata": {},
   "outputs": [],
   "source": [
    "ages = {'Sam': 5, \"frank\": 34}"
   ]
  },
  {
   "cell_type": "code",
   "execution_count": 21,
   "id": "1f8246f3",
   "metadata": {},
   "outputs": [
    {
     "data": {
      "text/plain": [
       "Sam       5\n",
       "frank    34\n",
       "dtype: int64"
      ]
     },
     "execution_count": 21,
     "metadata": {},
     "output_type": "execute_result"
    }
   ],
   "source": [
    "pd.Series(ages)"
   ]
  },
  {
   "cell_type": "code",
   "execution_count": null,
   "id": "590ac1f3",
   "metadata": {},
   "outputs": [],
   "source": [
    "  "
   ]
  }
 ],
 "metadata": {
  "kernelspec": {
   "display_name": "Python 3 (ipykernel)",
   "language": "python",
   "name": "python3"
  },
  "language_info": {
   "codemirror_mode": {
    "name": "ipython",
    "version": 3
   },
   "file_extension": ".py",
   "mimetype": "text/x-python",
   "name": "python",
   "nbconvert_exporter": "python",
   "pygments_lexer": "ipython3",
   "version": "3.10.9"
  }
 },
 "nbformat": 4,
 "nbformat_minor": 5
}
