{
 "cells": [
  {
   "cell_type": "code",
   "execution_count": 125,
   "id": "28cfc318",
   "metadata": {},
   "outputs": [],
   "source": [
    "import pandas as pd\n",
    "import numpy as np\n",
    "import os"
   ]
  },
  {
   "cell_type": "code",
   "execution_count": 126,
   "id": "2669cc29",
   "metadata": {},
   "outputs": [
    {
     "data": {
      "text/plain": [
       "'D:\\\\development\\\\personal\\\\datascience\\\\numpy\\\\Basic_Data_science_lib\\\\pandas'"
      ]
     },
     "execution_count": 126,
     "metadata": {},
     "output_type": "execute_result"
    }
   ],
   "source": [
    "pwd"
   ]
  },
  {
   "cell_type": "code",
   "execution_count": 127,
   "id": "f305fd75",
   "metadata": {},
   "outputs": [],
   "source": [
    "df = pd.read_csv('example.csv',header=0,index_col=0)"
   ]
  },
  {
   "cell_type": "code",
   "execution_count": 128,
   "id": "c7efb887",
   "metadata": {},
   "outputs": [
    {
     "data": {
      "text/html": [
       "<div>\n",
       "<style scoped>\n",
       "    .dataframe tbody tr th:only-of-type {\n",
       "        vertical-align: middle;\n",
       "    }\n",
       "\n",
       "    .dataframe tbody tr th {\n",
       "        vertical-align: top;\n",
       "    }\n",
       "\n",
       "    .dataframe thead th {\n",
       "        text-align: right;\n",
       "    }\n",
       "</style>\n",
       "<table border=\"1\" class=\"dataframe\">\n",
       "  <thead>\n",
       "    <tr style=\"text-align: right;\">\n",
       "      <th></th>\n",
       "      <th>b</th>\n",
       "      <th>c</th>\n",
       "      <th>d</th>\n",
       "    </tr>\n",
       "    <tr>\n",
       "      <th>a</th>\n",
       "      <th></th>\n",
       "      <th></th>\n",
       "      <th></th>\n",
       "    </tr>\n",
       "  </thead>\n",
       "  <tbody>\n",
       "    <tr>\n",
       "      <th>0</th>\n",
       "      <td>1</td>\n",
       "      <td>2</td>\n",
       "      <td>3</td>\n",
       "    </tr>\n",
       "    <tr>\n",
       "      <th>4</th>\n",
       "      <td>5</td>\n",
       "      <td>6</td>\n",
       "      <td>7</td>\n",
       "    </tr>\n",
       "    <tr>\n",
       "      <th>8</th>\n",
       "      <td>9</td>\n",
       "      <td>10</td>\n",
       "      <td>11</td>\n",
       "    </tr>\n",
       "    <tr>\n",
       "      <th>12</th>\n",
       "      <td>13</td>\n",
       "      <td>14</td>\n",
       "      <td>15</td>\n",
       "    </tr>\n",
       "  </tbody>\n",
       "</table>\n",
       "</div>"
      ],
      "text/plain": [
       "     b   c   d\n",
       "a             \n",
       "0    1   2   3\n",
       "4    5   6   7\n",
       "8    9  10  11\n",
       "12  13  14  15"
      ]
     },
     "execution_count": 128,
     "metadata": {},
     "output_type": "execute_result"
    }
   ],
   "source": [
    "df"
   ]
  },
  {
   "cell_type": "code",
   "execution_count": 129,
   "id": "c593fa17",
   "metadata": {},
   "outputs": [],
   "source": [
    "url = 'https://en.wikipedia.org/wiki/World_population'"
   ]
  },
  {
   "cell_type": "code",
   "execution_count": 130,
   "id": "24744b69",
   "metadata": {},
   "outputs": [],
   "source": [
    "table = pd.read_html(url)"
   ]
  },
  {
   "cell_type": "code",
   "execution_count": 131,
   "id": "c516bb1d",
   "metadata": {},
   "outputs": [],
   "source": [
    "wordl_table =table[4]"
   ]
  },
  {
   "cell_type": "code",
   "execution_count": 132,
   "id": "ff8ea4c4",
   "metadata": {},
   "outputs": [
    {
     "data": {
      "text/plain": [
       "29"
      ]
     },
     "execution_count": 132,
     "metadata": {},
     "output_type": "execute_result"
    }
   ],
   "source": [
    "len(table)"
   ]
  },
  {
   "cell_type": "code",
   "execution_count": 133,
   "id": "f31a017c",
   "metadata": {},
   "outputs": [
    {
     "data": {
      "text/html": [
       "<div>\n",
       "<style scoped>\n",
       "    .dataframe tbody tr th:only-of-type {\n",
       "        vertical-align: middle;\n",
       "    }\n",
       "\n",
       "    .dataframe tbody tr th {\n",
       "        vertical-align: top;\n",
       "    }\n",
       "\n",
       "    .dataframe thead th {\n",
       "        text-align: right;\n",
       "    }\n",
       "</style>\n",
       "<table border=\"1\" class=\"dataframe\">\n",
       "  <thead>\n",
       "    <tr style=\"text-align: right;\">\n",
       "      <th></th>\n",
       "      <th>Rank</th>\n",
       "      <th>Country / Dependency</th>\n",
       "      <th>Population</th>\n",
       "      <th>Percentage of the world</th>\n",
       "      <th>Date</th>\n",
       "      <th>Source (official or from the United Nations)</th>\n",
       "    </tr>\n",
       "  </thead>\n",
       "  <tbody>\n",
       "    <tr>\n",
       "      <th>0</th>\n",
       "      <td>1</td>\n",
       "      <td>India</td>\n",
       "      <td>1425775850</td>\n",
       "      <td>/</td>\n",
       "      <td>14 Apr 2023</td>\n",
       "      <td>UN projection[92]</td>\n",
       "    </tr>\n",
       "    <tr>\n",
       "      <th>1</th>\n",
       "      <td>2</td>\n",
       "      <td>China</td>\n",
       "      <td>1412600000</td>\n",
       "      <td>/</td>\n",
       "      <td>31 Dec 2021</td>\n",
       "      <td>National annual estimate[93]</td>\n",
       "    </tr>\n",
       "    <tr>\n",
       "      <th>2</th>\n",
       "      <td>3</td>\n",
       "      <td>United States</td>\n",
       "      <td>335380284</td>\n",
       "      <td>/</td>\n",
       "      <td>7 Sep 2023</td>\n",
       "      <td>National population clock[94]</td>\n",
       "    </tr>\n",
       "    <tr>\n",
       "      <th>3</th>\n",
       "      <td>4</td>\n",
       "      <td>Indonesia</td>\n",
       "      <td>275773800</td>\n",
       "      <td>/</td>\n",
       "      <td>1 Jul 2022</td>\n",
       "      <td>National annual estimate[95]</td>\n",
       "    </tr>\n",
       "    <tr>\n",
       "      <th>4</th>\n",
       "      <td>5</td>\n",
       "      <td>Pakistan</td>\n",
       "      <td>229488994</td>\n",
       "      <td>/</td>\n",
       "      <td>1 Jul 2022</td>\n",
       "      <td>UN projection[96]</td>\n",
       "    </tr>\n",
       "    <tr>\n",
       "      <th>5</th>\n",
       "      <td>6</td>\n",
       "      <td>Nigeria</td>\n",
       "      <td>216746934</td>\n",
       "      <td>/</td>\n",
       "      <td>1 Jul 2022</td>\n",
       "      <td>UN projection[96]</td>\n",
       "    </tr>\n",
       "    <tr>\n",
       "      <th>6</th>\n",
       "      <td>7</td>\n",
       "      <td>Brazil</td>\n",
       "      <td>216620561</td>\n",
       "      <td>/</td>\n",
       "      <td>7 Sep 2023</td>\n",
       "      <td>National population clock[97]</td>\n",
       "    </tr>\n",
       "    <tr>\n",
       "      <th>7</th>\n",
       "      <td>8</td>\n",
       "      <td>Bangladesh</td>\n",
       "      <td>168220000</td>\n",
       "      <td>/</td>\n",
       "      <td>1 Jul 2020</td>\n",
       "      <td>Annual Population Estimate[98]</td>\n",
       "    </tr>\n",
       "    <tr>\n",
       "      <th>8</th>\n",
       "      <td>9</td>\n",
       "      <td>Russia</td>\n",
       "      <td>147190000</td>\n",
       "      <td>/</td>\n",
       "      <td>1 Oct 2021</td>\n",
       "      <td>2021 preliminary census results[99]</td>\n",
       "    </tr>\n",
       "    <tr>\n",
       "      <th>9</th>\n",
       "      <td>10</td>\n",
       "      <td>Mexico</td>\n",
       "      <td>128271248</td>\n",
       "      <td>/</td>\n",
       "      <td>31 Mar 2022</td>\n",
       "      <td>/</td>\n",
       "    </tr>\n",
       "  </tbody>\n",
       "</table>\n",
       "</div>"
      ],
      "text/plain": [
       "   Rank Country / Dependency  Population Percentage of the world         Date  \\\n",
       "0     1                India  1425775850                       /  14 Apr 2023   \n",
       "1     2                China  1412600000                       /  31 Dec 2021   \n",
       "2     3        United States   335380284                       /   7 Sep 2023   \n",
       "3     4            Indonesia   275773800                       /   1 Jul 2022   \n",
       "4     5             Pakistan   229488994                       /   1 Jul 2022   \n",
       "5     6              Nigeria   216746934                       /   1 Jul 2022   \n",
       "6     7               Brazil   216620561                       /   7 Sep 2023   \n",
       "7     8           Bangladesh   168220000                       /   1 Jul 2020   \n",
       "8     9               Russia   147190000                       /   1 Oct 2021   \n",
       "9    10               Mexico   128271248                       /  31 Mar 2022   \n",
       "\n",
       "  Source (official or from the United Nations)  \n",
       "0                            UN projection[92]  \n",
       "1                 National annual estimate[93]  \n",
       "2                National population clock[94]  \n",
       "3                 National annual estimate[95]  \n",
       "4                            UN projection[96]  \n",
       "5                            UN projection[96]  \n",
       "6                National population clock[97]  \n",
       "7               Annual Population Estimate[98]  \n",
       "8          2021 preliminary census results[99]  \n",
       "9                                            /  "
      ]
     },
     "execution_count": 133,
     "metadata": {},
     "output_type": "execute_result"
    }
   ],
   "source": [
    "wordl_table.fillna('/')"
   ]
  },
  {
   "cell_type": "code",
   "execution_count": 134,
   "id": "ec125c59",
   "metadata": {},
   "outputs": [
    {
     "data": {
      "text/html": [
       "<div>\n",
       "<style scoped>\n",
       "    .dataframe tbody tr th:only-of-type {\n",
       "        vertical-align: middle;\n",
       "    }\n",
       "\n",
       "    .dataframe tbody tr th {\n",
       "        vertical-align: top;\n",
       "    }\n",
       "\n",
       "    .dataframe thead th {\n",
       "        text-align: right;\n",
       "    }\n",
       "</style>\n",
       "<table border=\"1\" class=\"dataframe\">\n",
       "  <thead>\n",
       "    <tr style=\"text-align: right;\">\n",
       "      <th></th>\n",
       "      <th>Country / Dependency</th>\n",
       "      <th>Population</th>\n",
       "      <th>Percentage of the world</th>\n",
       "      <th>Date</th>\n",
       "      <th>Source (official or from the United Nations)</th>\n",
       "    </tr>\n",
       "    <tr>\n",
       "      <th>Rank</th>\n",
       "      <th></th>\n",
       "      <th></th>\n",
       "      <th></th>\n",
       "      <th></th>\n",
       "      <th></th>\n",
       "    </tr>\n",
       "  </thead>\n",
       "  <tbody>\n",
       "    <tr>\n",
       "      <th>1</th>\n",
       "      <td>India</td>\n",
       "      <td>1425775850</td>\n",
       "      <td>NaN</td>\n",
       "      <td>14 Apr 2023</td>\n",
       "      <td>UN projection[92]</td>\n",
       "    </tr>\n",
       "    <tr>\n",
       "      <th>2</th>\n",
       "      <td>China</td>\n",
       "      <td>1412600000</td>\n",
       "      <td>NaN</td>\n",
       "      <td>31 Dec 2021</td>\n",
       "      <td>National annual estimate[93]</td>\n",
       "    </tr>\n",
       "    <tr>\n",
       "      <th>3</th>\n",
       "      <td>United States</td>\n",
       "      <td>335380284</td>\n",
       "      <td>NaN</td>\n",
       "      <td>7 Sep 2023</td>\n",
       "      <td>National population clock[94]</td>\n",
       "    </tr>\n",
       "    <tr>\n",
       "      <th>4</th>\n",
       "      <td>Indonesia</td>\n",
       "      <td>275773800</td>\n",
       "      <td>NaN</td>\n",
       "      <td>1 Jul 2022</td>\n",
       "      <td>National annual estimate[95]</td>\n",
       "    </tr>\n",
       "    <tr>\n",
       "      <th>5</th>\n",
       "      <td>Pakistan</td>\n",
       "      <td>229488994</td>\n",
       "      <td>NaN</td>\n",
       "      <td>1 Jul 2022</td>\n",
       "      <td>UN projection[96]</td>\n",
       "    </tr>\n",
       "    <tr>\n",
       "      <th>6</th>\n",
       "      <td>Nigeria</td>\n",
       "      <td>216746934</td>\n",
       "      <td>NaN</td>\n",
       "      <td>1 Jul 2022</td>\n",
       "      <td>UN projection[96]</td>\n",
       "    </tr>\n",
       "    <tr>\n",
       "      <th>7</th>\n",
       "      <td>Brazil</td>\n",
       "      <td>216620561</td>\n",
       "      <td>NaN</td>\n",
       "      <td>7 Sep 2023</td>\n",
       "      <td>National population clock[97]</td>\n",
       "    </tr>\n",
       "    <tr>\n",
       "      <th>8</th>\n",
       "      <td>Bangladesh</td>\n",
       "      <td>168220000</td>\n",
       "      <td>NaN</td>\n",
       "      <td>1 Jul 2020</td>\n",
       "      <td>Annual Population Estimate[98]</td>\n",
       "    </tr>\n",
       "    <tr>\n",
       "      <th>9</th>\n",
       "      <td>Russia</td>\n",
       "      <td>147190000</td>\n",
       "      <td>NaN</td>\n",
       "      <td>1 Oct 2021</td>\n",
       "      <td>2021 preliminary census results[99]</td>\n",
       "    </tr>\n",
       "    <tr>\n",
       "      <th>10</th>\n",
       "      <td>Mexico</td>\n",
       "      <td>128271248</td>\n",
       "      <td>NaN</td>\n",
       "      <td>31 Mar 2022</td>\n",
       "      <td>NaN</td>\n",
       "    </tr>\n",
       "  </tbody>\n",
       "</table>\n",
       "</div>"
      ],
      "text/plain": [
       "     Country / Dependency  Population  Percentage of the world         Date  \\\n",
       "Rank                                                                          \n",
       "1                   India  1425775850                      NaN  14 Apr 2023   \n",
       "2                   China  1412600000                      NaN  31 Dec 2021   \n",
       "3           United States   335380284                      NaN   7 Sep 2023   \n",
       "4               Indonesia   275773800                      NaN   1 Jul 2022   \n",
       "5                Pakistan   229488994                      NaN   1 Jul 2022   \n",
       "6                 Nigeria   216746934                      NaN   1 Jul 2022   \n",
       "7                  Brazil   216620561                      NaN   7 Sep 2023   \n",
       "8              Bangladesh   168220000                      NaN   1 Jul 2020   \n",
       "9                  Russia   147190000                      NaN   1 Oct 2021   \n",
       "10                 Mexico   128271248                      NaN  31 Mar 2022   \n",
       "\n",
       "     Source (official or from the United Nations)  \n",
       "Rank                                               \n",
       "1                               UN projection[92]  \n",
       "2                    National annual estimate[93]  \n",
       "3                   National population clock[94]  \n",
       "4                    National annual estimate[95]  \n",
       "5                               UN projection[96]  \n",
       "6                               UN projection[96]  \n",
       "7                   National population clock[97]  \n",
       "8                  Annual Population Estimate[98]  \n",
       "9             2021 preliminary census results[99]  \n",
       "10                                            NaN  "
      ]
     },
     "execution_count": 134,
     "metadata": {},
     "output_type": "execute_result"
    }
   ],
   "source": [
    "wordl_table.set_index('Rank')"
   ]
  },
  {
   "cell_type": "code",
   "execution_count": 135,
   "id": "357726c3",
   "metadata": {},
   "outputs": [
    {
     "data": {
      "text/html": [
       "<div>\n",
       "<style scoped>\n",
       "    .dataframe tbody tr th:only-of-type {\n",
       "        vertical-align: middle;\n",
       "    }\n",
       "\n",
       "    .dataframe tbody tr th {\n",
       "        vertical-align: top;\n",
       "    }\n",
       "\n",
       "    .dataframe thead th {\n",
       "        text-align: right;\n",
       "    }\n",
       "</style>\n",
       "<table border=\"1\" class=\"dataframe\">\n",
       "  <thead>\n",
       "    <tr style=\"text-align: right;\">\n",
       "      <th></th>\n",
       "      <th>rank</th>\n",
       "      <th>COuntry</th>\n",
       "      <th>Pop</th>\n",
       "      <th>percent</th>\n",
       "      <th>Date</th>\n",
       "      <th>Source</th>\n",
       "    </tr>\n",
       "  </thead>\n",
       "  <tbody>\n",
       "    <tr>\n",
       "      <th>0</th>\n",
       "      <td>1</td>\n",
       "      <td>India</td>\n",
       "      <td>1425775850</td>\n",
       "      <td>NaN</td>\n",
       "      <td>14 Apr 2023</td>\n",
       "      <td>UN projection[92]</td>\n",
       "    </tr>\n",
       "    <tr>\n",
       "      <th>1</th>\n",
       "      <td>2</td>\n",
       "      <td>China</td>\n",
       "      <td>1412600000</td>\n",
       "      <td>NaN</td>\n",
       "      <td>31 Dec 2021</td>\n",
       "      <td>National annual estimate[93]</td>\n",
       "    </tr>\n",
       "    <tr>\n",
       "      <th>2</th>\n",
       "      <td>3</td>\n",
       "      <td>United States</td>\n",
       "      <td>335380284</td>\n",
       "      <td>NaN</td>\n",
       "      <td>7 Sep 2023</td>\n",
       "      <td>National population clock[94]</td>\n",
       "    </tr>\n",
       "    <tr>\n",
       "      <th>3</th>\n",
       "      <td>4</td>\n",
       "      <td>Indonesia</td>\n",
       "      <td>275773800</td>\n",
       "      <td>NaN</td>\n",
       "      <td>1 Jul 2022</td>\n",
       "      <td>National annual estimate[95]</td>\n",
       "    </tr>\n",
       "    <tr>\n",
       "      <th>4</th>\n",
       "      <td>5</td>\n",
       "      <td>Pakistan</td>\n",
       "      <td>229488994</td>\n",
       "      <td>NaN</td>\n",
       "      <td>1 Jul 2022</td>\n",
       "      <td>UN projection[96]</td>\n",
       "    </tr>\n",
       "    <tr>\n",
       "      <th>5</th>\n",
       "      <td>6</td>\n",
       "      <td>Nigeria</td>\n",
       "      <td>216746934</td>\n",
       "      <td>NaN</td>\n",
       "      <td>1 Jul 2022</td>\n",
       "      <td>UN projection[96]</td>\n",
       "    </tr>\n",
       "    <tr>\n",
       "      <th>6</th>\n",
       "      <td>7</td>\n",
       "      <td>Brazil</td>\n",
       "      <td>216620561</td>\n",
       "      <td>NaN</td>\n",
       "      <td>7 Sep 2023</td>\n",
       "      <td>National population clock[97]</td>\n",
       "    </tr>\n",
       "    <tr>\n",
       "      <th>7</th>\n",
       "      <td>8</td>\n",
       "      <td>Bangladesh</td>\n",
       "      <td>168220000</td>\n",
       "      <td>NaN</td>\n",
       "      <td>1 Jul 2020</td>\n",
       "      <td>Annual Population Estimate[98]</td>\n",
       "    </tr>\n",
       "    <tr>\n",
       "      <th>8</th>\n",
       "      <td>9</td>\n",
       "      <td>Russia</td>\n",
       "      <td>147190000</td>\n",
       "      <td>NaN</td>\n",
       "      <td>1 Oct 2021</td>\n",
       "      <td>2021 preliminary census results[99]</td>\n",
       "    </tr>\n",
       "    <tr>\n",
       "      <th>9</th>\n",
       "      <td>10</td>\n",
       "      <td>Mexico</td>\n",
       "      <td>128271248</td>\n",
       "      <td>NaN</td>\n",
       "      <td>31 Mar 2022</td>\n",
       "      <td>NaN</td>\n",
       "    </tr>\n",
       "  </tbody>\n",
       "</table>\n",
       "</div>"
      ],
      "text/plain": [
       "   rank        COuntry         Pop  percent         Date  \\\n",
       "0     1          India  1425775850      NaN  14 Apr 2023   \n",
       "1     2          China  1412600000      NaN  31 Dec 2021   \n",
       "2     3  United States   335380284      NaN   7 Sep 2023   \n",
       "3     4      Indonesia   275773800      NaN   1 Jul 2022   \n",
       "4     5       Pakistan   229488994      NaN   1 Jul 2022   \n",
       "5     6        Nigeria   216746934      NaN   1 Jul 2022   \n",
       "6     7         Brazil   216620561      NaN   7 Sep 2023   \n",
       "7     8     Bangladesh   168220000      NaN   1 Jul 2020   \n",
       "8     9         Russia   147190000      NaN   1 Oct 2021   \n",
       "9    10         Mexico   128271248      NaN  31 Mar 2022   \n",
       "\n",
       "                                Source  \n",
       "0                    UN projection[92]  \n",
       "1         National annual estimate[93]  \n",
       "2        National population clock[94]  \n",
       "3         National annual estimate[95]  \n",
       "4                    UN projection[96]  \n",
       "5                    UN projection[96]  \n",
       "6        National population clock[97]  \n",
       "7       Annual Population Estimate[98]  \n",
       "8  2021 preliminary census results[99]  \n",
       "9                                  NaN  "
      ]
     },
     "execution_count": 135,
     "metadata": {},
     "output_type": "execute_result"
    }
   ],
   "source": [
    "wordl_table.columns = ['rank','COuntry', 'Pop', 'percent', 'Date', 'Source']\n",
    "wordl_table"
   ]
  },
  {
   "cell_type": "code",
   "execution_count": 136,
   "id": "1df34c7e",
   "metadata": {},
   "outputs": [
    {
     "data": {
      "text/plain": [
       "0                      UN projection[92]\n",
       "1           National annual estimate[93]\n",
       "2          National population clock[94]\n",
       "3           National annual estimate[95]\n",
       "4                      UN projection[96]\n",
       "5                      UN projection[96]\n",
       "6          National population clock[97]\n",
       "7         Annual Population Estimate[98]\n",
       "8    2021 preliminary census results[99]\n",
       "9    2021 preliminary census results[99]\n",
       "Name: Source, dtype: object"
      ]
     },
     "execution_count": 136,
     "metadata": {},
     "output_type": "execute_result"
    }
   ],
   "source": [
    "wordl_table['Source'].fillna(method='ffill')"
   ]
  },
  {
   "cell_type": "code",
   "execution_count": 137,
   "id": "c1da98a2",
   "metadata": {},
   "outputs": [
    {
     "name": "stderr",
     "output_type": "stream",
     "text": [
      "C:\\Users\\User\\AppData\\Local\\Temp\\ipykernel_6280\\3502041279.py:1: SettingWithCopyWarning: \n",
      "A value is trying to be set on a copy of a slice from a DataFrame\n",
      "\n",
      "See the caveats in the documentation: https://pandas.pydata.org/pandas-docs/stable/user_guide/indexing.html#returning-a-view-versus-a-copy\n",
      "  wordl_table['percent'][0] = '34'\n"
     ]
    }
   ],
   "source": [
    "wordl_table['percent'][0] = '34'\n",
    "wordl_table['percent'][4] = '243443'\n",
    "wordl_table['percent'][8] = 'hisham'"
   ]
  },
  {
   "cell_type": "code",
   "execution_count": 138,
   "id": "2f459609",
   "metadata": {},
   "outputs": [
    {
     "data": {
      "text/plain": [
       "0        34\n",
       "1       NaN\n",
       "2       NaN\n",
       "3       NaN\n",
       "4    243443\n",
       "5       NaN\n",
       "6       NaN\n",
       "7       NaN\n",
       "8    hisham\n",
       "9       NaN\n",
       "Name: percent, dtype: object"
      ]
     },
     "execution_count": 138,
     "metadata": {},
     "output_type": "execute_result"
    }
   ],
   "source": [
    "wordl_table['percent']"
   ]
  },
  {
   "cell_type": "code",
   "execution_count": 139,
   "id": "f1e89351",
   "metadata": {},
   "outputs": [
    {
     "data": {
      "text/plain": [
       "0        34\n",
       "1    243443\n",
       "2    243443\n",
       "3    243443\n",
       "4    243443\n",
       "5    hisham\n",
       "6    hisham\n",
       "7    hisham\n",
       "8    hisham\n",
       "9       ///\n",
       "Name: percent, dtype: object"
      ]
     },
     "execution_count": 139,
     "metadata": {},
     "output_type": "execute_result"
    }
   ],
   "source": [
    "wordl_table['percent'].fillna(method='bfill').fillna('///')"
   ]
  },
  {
   "cell_type": "code",
   "execution_count": 140,
   "id": "7fdb6ddb",
   "metadata": {},
   "outputs": [],
   "source": [
    "table = pd.read_html('https://www.w3schools.com/html/html_tables.asp')"
   ]
  },
  {
   "cell_type": "code",
   "execution_count": 141,
   "id": "e4dbb3e5",
   "metadata": {},
   "outputs": [
    {
     "data": {
      "text/plain": [
       "2"
      ]
     },
     "execution_count": 141,
     "metadata": {},
     "output_type": "execute_result"
    }
   ],
   "source": [
    "len(table)"
   ]
  },
  {
   "cell_type": "code",
   "execution_count": 142,
   "id": "f41f4d2d",
   "metadata": {},
   "outputs": [],
   "source": [
    "from sqlalchemy import create_engine"
   ]
  },
  {
   "cell_type": "code",
   "execution_count": 143,
   "id": "9fffc315",
   "metadata": {},
   "outputs": [],
   "source": [
    "temp_db = create_engine('sqlite:///:memory')"
   ]
  },
  {
   "cell_type": "code",
   "execution_count": 146,
   "id": "be4953e5",
   "metadata": {},
   "outputs": [],
   "source": [
    "df = pd.DataFrame(data=np.random.randint(low=0,high=100,size=(4,4)), columns=['a','b','c','d'])"
   ]
  },
  {
   "cell_type": "code",
   "execution_count": 147,
   "id": "89c2232b",
   "metadata": {},
   "outputs": [
    {
     "data": {
      "text/html": [
       "<div>\n",
       "<style scoped>\n",
       "    .dataframe tbody tr th:only-of-type {\n",
       "        vertical-align: middle;\n",
       "    }\n",
       "\n",
       "    .dataframe tbody tr th {\n",
       "        vertical-align: top;\n",
       "    }\n",
       "\n",
       "    .dataframe thead th {\n",
       "        text-align: right;\n",
       "    }\n",
       "</style>\n",
       "<table border=\"1\" class=\"dataframe\">\n",
       "  <thead>\n",
       "    <tr style=\"text-align: right;\">\n",
       "      <th></th>\n",
       "      <th>a</th>\n",
       "      <th>b</th>\n",
       "      <th>c</th>\n",
       "      <th>d</th>\n",
       "    </tr>\n",
       "  </thead>\n",
       "  <tbody>\n",
       "    <tr>\n",
       "      <th>0</th>\n",
       "      <td>31</td>\n",
       "      <td>47</td>\n",
       "      <td>12</td>\n",
       "      <td>81</td>\n",
       "    </tr>\n",
       "    <tr>\n",
       "      <th>1</th>\n",
       "      <td>29</td>\n",
       "      <td>37</td>\n",
       "      <td>85</td>\n",
       "      <td>32</td>\n",
       "    </tr>\n",
       "    <tr>\n",
       "      <th>2</th>\n",
       "      <td>14</td>\n",
       "      <td>72</td>\n",
       "      <td>34</td>\n",
       "      <td>0</td>\n",
       "    </tr>\n",
       "    <tr>\n",
       "      <th>3</th>\n",
       "      <td>66</td>\n",
       "      <td>93</td>\n",
       "      <td>17</td>\n",
       "      <td>81</td>\n",
       "    </tr>\n",
       "  </tbody>\n",
       "</table>\n",
       "</div>"
      ],
      "text/plain": [
       "    a   b   c   d\n",
       "0  31  47  12  81\n",
       "1  29  37  85  32\n",
       "2  14  72  34   0\n",
       "3  66  93  17  81"
      ]
     },
     "execution_count": 147,
     "metadata": {},
     "output_type": "execute_result"
    }
   ],
   "source": [
    "df"
   ]
  },
  {
   "cell_type": "code",
   "execution_count": 150,
   "id": "1f90daab",
   "metadata": {},
   "outputs": [],
   "source": [
    "df.to_sql(name='new_dftable', con=temp_db)"
   ]
  },
  {
   "cell_type": "code",
   "execution_count": 152,
   "id": "282c6664",
   "metadata": {},
   "outputs": [],
   "source": [
    "pd.read_sql(sql=\"new_dftable\", con=temp_db)"
   ]
  },
  {
   "cell_type": "code",
   "execution_count": null,
   "id": "2d53bf98",
   "metadata": {},
   "outputs": [],
   "source": [
    "pd.read_sql_query(sql=\"SELECT a,c FROM new_dftable\", con=temp_db)"
   ]
  },
  {
   "cell_type": "code",
   "execution_count": null,
   "id": "32015212",
   "metadata": {},
   "outputs": [],
   "source": []
  },
  {
   "cell_type": "code",
   "execution_count": null,
   "id": "2855110f",
   "metadata": {},
   "outputs": [],
   "source": []
  },
  {
   "cell_type": "code",
   "execution_count": null,
   "id": "f07ac2de",
   "metadata": {},
   "outputs": [],
   "source": []
  },
  {
   "cell_type": "code",
   "execution_count": null,
   "id": "28c8445e",
   "metadata": {},
   "outputs": [],
   "source": []
  },
  {
   "cell_type": "code",
   "execution_count": null,
   "id": "075b0909",
   "metadata": {},
   "outputs": [],
   "source": []
  },
  {
   "cell_type": "code",
   "execution_count": null,
   "id": "5f02f0be",
   "metadata": {},
   "outputs": [],
   "source": []
  },
  {
   "cell_type": "code",
   "execution_count": null,
   "id": "431b6ded",
   "metadata": {},
   "outputs": [],
   "source": []
  }
 ],
 "metadata": {
  "kernelspec": {
   "display_name": "Python 3 (ipykernel)",
   "language": "python",
   "name": "python3"
  },
  "language_info": {
   "codemirror_mode": {
    "name": "ipython",
    "version": 3
   },
   "file_extension": ".py",
   "mimetype": "text/x-python",
   "name": "python",
   "nbconvert_exporter": "python",
   "pygments_lexer": "ipython3",
   "version": "3.10.9"
  }
 },
 "nbformat": 4,
 "nbformat_minor": 5
}
