{
 "cells": [
  {
   "cell_type": "code",
   "execution_count": 2,
   "id": "a21eefa2",
   "metadata": {},
   "outputs": [],
   "source": [
    "import pandas as pd\n",
    "import numpy as np"
   ]
  },
  {
   "cell_type": "code",
   "execution_count": 3,
   "id": "a323755c",
   "metadata": {},
   "outputs": [],
   "source": [
    "email = 'hi@gmail.com'"
   ]
  },
  {
   "cell_type": "code",
   "execution_count": 7,
   "id": "d923a66a",
   "metadata": {},
   "outputs": [
    {
     "data": {
      "text/plain": [
       "['hi', 'gmail.com']"
      ]
     },
     "execution_count": 7,
     "metadata": {},
     "output_type": "execute_result"
    }
   ],
   "source": [
    "email.split('@')"
   ]
  },
  {
   "cell_type": "code",
   "execution_count": 8,
   "id": "f7046d2c",
   "metadata": {},
   "outputs": [],
   "source": [
    "names = pd.Series(['hisham', 'bobo', 'andrew', '3'])"
   ]
  },
  {
   "cell_type": "code",
   "execution_count": 9,
   "id": "914baacd",
   "metadata": {},
   "outputs": [
    {
     "data": {
      "text/plain": [
       "0    hisham\n",
       "1      bobo\n",
       "2    andrew\n",
       "3         3\n",
       "dtype: object"
      ]
     },
     "execution_count": 9,
     "metadata": {},
     "output_type": "execute_result"
    }
   ],
   "source": [
    "names"
   ]
  },
  {
   "cell_type": "code",
   "execution_count": 15,
   "id": "c2ca52bd",
   "metadata": {},
   "outputs": [
    {
     "data": {
      "text/plain": [
       "0    hisham\n",
       "dtype: object"
      ]
     },
     "execution_count": 15,
     "metadata": {},
     "output_type": "execute_result"
    }
   ],
   "source": [
    "names[names.str.startswith('h')]"
   ]
  },
  {
   "cell_type": "code",
   "execution_count": 16,
   "id": "30628249",
   "metadata": {},
   "outputs": [
    {
     "data": {
      "text/plain": [
       "0    False\n",
       "1    False\n",
       "2    False\n",
       "3     True\n",
       "dtype: bool"
      ]
     },
     "execution_count": 16,
     "metadata": {},
     "output_type": "execute_result"
    }
   ],
   "source": [
    "names.str.isdigit()"
   ]
  },
  {
   "cell_type": "code",
   "execution_count": 17,
   "id": "0e9660ab",
   "metadata": {},
   "outputs": [
    {
     "data": {
      "text/plain": [
       "3    3\n",
       "dtype: object"
      ]
     },
     "execution_count": 17,
     "metadata": {},
     "output_type": "execute_result"
    }
   ],
   "source": [
    "names[names.str.isdigit()]"
   ]
  },
  {
   "cell_type": "code",
   "execution_count": 19,
   "id": "7143b805",
   "metadata": {},
   "outputs": [],
   "source": [
    "tech_finance = ['GOOG,APPL,AMZN','JPM,BAC,GS']"
   ]
  },
  {
   "cell_type": "code",
   "execution_count": 20,
   "id": "e04d9824",
   "metadata": {},
   "outputs": [],
   "source": [
    "ticker = pd.Series(tech_finance)"
   ]
  },
  {
   "cell_type": "code",
   "execution_count": 21,
   "id": "1979a31a",
   "metadata": {},
   "outputs": [
    {
     "data": {
      "text/plain": [
       "0    GOOG,APPL,AMZN\n",
       "1        JPM,BAC,GS\n",
       "dtype: object"
      ]
     },
     "execution_count": 21,
     "metadata": {},
     "output_type": "execute_result"
    }
   ],
   "source": [
    "ticker"
   ]
  },
  {
   "cell_type": "code",
   "execution_count": 24,
   "id": "2fa125a0",
   "metadata": {},
   "outputs": [
    {
     "data": {
      "text/html": [
       "<div>\n",
       "<style scoped>\n",
       "    .dataframe tbody tr th:only-of-type {\n",
       "        vertical-align: middle;\n",
       "    }\n",
       "\n",
       "    .dataframe tbody tr th {\n",
       "        vertical-align: top;\n",
       "    }\n",
       "\n",
       "    .dataframe thead th {\n",
       "        text-align: right;\n",
       "    }\n",
       "</style>\n",
       "<table border=\"1\" class=\"dataframe\">\n",
       "  <thead>\n",
       "    <tr style=\"text-align: right;\">\n",
       "      <th></th>\n",
       "      <th>0</th>\n",
       "      <th>1</th>\n",
       "      <th>2</th>\n",
       "    </tr>\n",
       "  </thead>\n",
       "  <tbody>\n",
       "    <tr>\n",
       "      <th>0</th>\n",
       "      <td>GOOG</td>\n",
       "      <td>APPL</td>\n",
       "      <td>AMZN</td>\n",
       "    </tr>\n",
       "    <tr>\n",
       "      <th>1</th>\n",
       "      <td>JPM</td>\n",
       "      <td>BAC</td>\n",
       "      <td>GS</td>\n",
       "    </tr>\n",
       "  </tbody>\n",
       "</table>\n",
       "</div>"
      ],
      "text/plain": [
       "      0     1     2\n",
       "0  GOOG  APPL  AMZN\n",
       "1   JPM   BAC    GS"
      ]
     },
     "execution_count": 24,
     "metadata": {},
     "output_type": "execute_result"
    }
   ],
   "source": [
    "ticker.str.split(',',expand=True)"
   ]
  },
  {
   "cell_type": "code",
   "execution_count": 26,
   "id": "fecbeb8b",
   "metadata": {},
   "outputs": [],
   "source": [
    "messy_names = pd.Series(['Andrew  ', 'bob;bo', '   hisham   '])"
   ]
  },
  {
   "cell_type": "code",
   "execution_count": 31,
   "id": "78ef90aa",
   "metadata": {},
   "outputs": [
    {
     "data": {
      "text/plain": [
       "0        Andrew  \n",
       "1          bob;bo\n",
       "2       hisham   \n",
       "dtype: object"
      ]
     },
     "execution_count": 31,
     "metadata": {},
     "output_type": "execute_result"
    }
   ],
   "source": [
    "messy_names"
   ]
  },
  {
   "cell_type": "code",
   "execution_count": 33,
   "id": "54e9a5ba",
   "metadata": {},
   "outputs": [
    {
     "data": {
      "text/plain": [
       "0    Andrew\n",
       "1     bobbo\n",
       "2    hisham\n",
       "dtype: object"
      ]
     },
     "execution_count": 33,
     "metadata": {},
     "output_type": "execute_result"
    }
   ],
   "source": [
    "messy_names.str.replace(';', '').str.replace(' ', '')"
   ]
  },
  {
   "cell_type": "code",
   "execution_count": 34,
   "id": "68330779",
   "metadata": {},
   "outputs": [
    {
     "data": {
      "text/plain": [
       "0    Andrew\n",
       "1     bobbo\n",
       "2    hisham\n",
       "dtype: object"
      ]
     },
     "execution_count": 34,
     "metadata": {},
     "output_type": "execute_result"
    }
   ],
   "source": [
    "messy_names.str.replace(';', '').str.strip()"
   ]
  },
  {
   "cell_type": "code",
   "execution_count": 35,
   "id": "60165231",
   "metadata": {},
   "outputs": [],
   "source": [
    "def clean(name:str):\n",
    "    return name.replace(';','').strip()"
   ]
  },
  {
   "cell_type": "code",
   "execution_count": 36,
   "id": "ffadb77c",
   "metadata": {},
   "outputs": [],
   "source": [
    "messy_names = pd.Series(['Andrew  ', 'bob;bo', '   hisham   '])"
   ]
  },
  {
   "cell_type": "code",
   "execution_count": 38,
   "id": "4eb2a658",
   "metadata": {},
   "outputs": [
    {
     "data": {
      "text/plain": [
       "0    Andrew\n",
       "1     bobbo\n",
       "2    hisham\n",
       "dtype: object"
      ]
     },
     "execution_count": 38,
     "metadata": {},
     "output_type": "execute_result"
    }
   ],
   "source": [
    "messy_names.apply(clean)"
   ]
  },
  {
   "cell_type": "code",
   "execution_count": null,
   "id": "c4c35c76",
   "metadata": {},
   "outputs": [],
   "source": []
  }
 ],
 "metadata": {
  "kernelspec": {
   "display_name": "Python 3 (ipykernel)",
   "language": "python",
   "name": "python3"
  },
  "language_info": {
   "codemirror_mode": {
    "name": "ipython",
    "version": 3
   },
   "file_extension": ".py",
   "mimetype": "text/x-python",
   "name": "python",
   "nbconvert_exporter": "python",
   "pygments_lexer": "ipython3",
   "version": "3.10.9"
  }
 },
 "nbformat": 4,
 "nbformat_minor": 5
}
